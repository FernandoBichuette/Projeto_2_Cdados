{
 "cells": [
  {
   "cell_type": "markdown",
   "metadata": {},
   "source": [
    "# Projeto 2 \n",
    "## Grupo : Felipe Lacombe e Fernando Bichuette "
   ]
  },
  {
   "cell_type": "markdown",
   "metadata": {},
   "source": [
    "**Problema:** Hoje em dia o mercado de trabalho está mais dinamico, grandes milionários e bilionários pelo mundo obteram suas riquesas sem terem cursado ou terminado o terceiro grau (faculdade) mais mesmo assim conseguiram sucesso financeiro, empresas com o Google, Apple e IBM não exigem mais diploma universitário para contratar novos funcionarios. Tendo em vista isso o grupo teve uma pergunta em mente, será que o nivel de escolaridade não tem mais relação com a pessoa ter uma chance maior de perder o emprego?     "
   ]
  },
  {
   "cell_type": "markdown",
   "metadata": {},
   "source": [
    "**Pergunta :** O nivel de escolaridade afeta a chance de uma pessoa perder o emprego?"
   ]
  },
  {
   "cell_type": "code",
   "execution_count": null,
   "metadata": {},
   "outputs": [],
   "source": [
    "#importando as bibliotecas \n",
    "%matplotlib inline\n",
    "import pandas as pd\n",
    "\n",
    "import numpy as np\n",
    "import seaborn as sns\n",
    "from matplotlib.ticker import StrMethodFormatter\n",
    "import statsmodels.formula.api as smf\n",
    "from scipy import stats\n",
    "from matplotlib.gridspec import GridSpec\n",
    "import sklearn\n",
    "from sklearn import linear_model\n",
    "from sklearn.linear_model import LinearRegression\n",
    "from sklearn.model_selection import train_test_split\n",
    "from sklearn.metrics import mean_squared_error\n",
    "from sklearn.metrics import mean_absolute_error\n",
    "import matplotlib.pyplot as plt"
   ]
  },
  {
   "cell_type": "code",
   "execution_count": null,
   "metadata": {},
   "outputs": [],
   "source": [
    "#Importando o dataset desemprego por escolaridade\n",
    "desemprego_por_escolaridade = pd.read_csv(\"oecd.csv\")\n",
    "desemprego_por_escolaridade.drop(['INDICATOR','MEASURE','FREQUENCY','Flag Codes'], axis=1, inplace=True)\n",
    "desemprego_por_escolaridade.head()"
   ]
  },
  {
   "cell_type": "code",
   "execution_count": null,
   "metadata": {},
   "outputs": [],
   "source": [
    "#Importando o dataset desemprego total no ano\n",
    "desemprego= pd.read_excel('desemprego_total.xls')\n",
    "desemprego.drop(['Indicator Name','Indicator Code','Country Name'], axis=1, inplace=True)\n",
    "desemprego.head()"
   ]
  },
  {
   "cell_type": "code",
   "execution_count": null,
   "metadata": {},
   "outputs": [],
   "source": [
    "#Cruza as duas tabelas\n",
    "dados=desemprego_por_escolaridade.merge(desemprego, left_on=['LOCATION','TIME'], right_on=['Country Code','YEARS'], how='right')\n",
    "dados.drop(['YEARS','Country Code'], axis=1, inplace=True)\n",
    "dados.head()"
   ]
  },
  {
   "cell_type": "code",
   "execution_count": null,
   "metadata": {
    "scrolled": false
   },
   "outputs": [],
   "source": [
    "#Renomeando o dataset para mais facil compreensão \n",
    "dados.rename(columns={'SUBJECT':'Escolaridade','Unemployment, total (% of total labor force)':'Desemprego'}, inplace=True)\n",
    "dados[\"Escolaridade\"]= dados[\"Escolaridade\"].str.replace(\"BUPPSRY\", \"Prim_sem_Secun\", case = False)\n",
    "dados[\"Escolaridade\"]=dados[\"Escolaridade\"].str.replace(\"UPPSRY_NTRY\", \"Com_Secun_sem_superior\", case = False) \n",
    "dados[\"Escolaridade\"]=dados[\"Escolaridade\"].str.replace(\"TRY\", \"Com_ens_superior\", case = False) \n",
    "dados[\"LOCATION\"]=dados[\"LOCATION\"].str.replace(\"DEU\", \"Alem\", case = False)\n",
    "dados[\"LOCATION\"]=dados[\"LOCATION\"].str.replace(\"USA\", \"Eua\", case = False)\n",
    "dados[\"LOCATION\"]=dados[\"LOCATION\"].str.replace(\"KOR\", \"Coreia\", case = False)\n",
    "dados.head()"
   ]
  },
  {
   "cell_type": "code",
   "execution_count": null,
   "metadata": {},
   "outputs": [],
   "source": [
    "#Fasendo um violinplot \n",
    "#1° analise exploratoria\n",
    "plt.figure(1, figsize=(10,5))\n",
    "\n",
    "sns.violinplot(\n",
    "    data=dados,\n",
    "    x=\"LOCATION\",\n",
    "    y='Value',\n",
    "    hue='Escolaridade',\n",
    "    kind='box',\n",
    "    height=50, \n",
    "    aspect=50) \n",
    "plt.title('Escolaridade x Porcentagem de desempregados')\n",
    "plt.grid(True)\n",
    "plt.show()"
   ]
  },
  {
   "cell_type": "markdown",
   "metadata": {},
   "source": [
    "**1° analize exploratoria:** Após os processos de limpeza dos "
   ]
  },
  {
   "cell_type": "code",
   "execution_count": null,
   "metadata": {
    "scrolled": false
   },
   "outputs": [],
   "source": [
    "#Separando os paises\n",
    "Alemanha = dados.loc[(dados['LOCATION'])==\"Alem\"]  \n",
    "Eua=dados.loc[(dados['LOCATION'])=='Eua']\n",
    "Coreia=dados.loc[(dados['LOCATION'])=='Coreia']"
   ]
  },
  {
   "cell_type": "code",
   "execution_count": null,
   "metadata": {
    "scrolled": false
   },
   "outputs": [],
   "source": [
    "Alem1997=Alemanha.loc[(Alemanha['TIME'])==1997]\n",
    "Alem2007=Alemanha.loc[(Alemanha['TIME'])==2007]\n",
    "Alem2017=Alemanha.loc[(Alemanha['TIME'])==2017]\n",
    "\n",
    "Eua1997=Eua.loc[(Eua['TIME'])==1997]\n",
    "Eua2007=Eua.loc[(Eua['TIME'])==2007]\n",
    "Eua2017=Eua.loc[(Eua['TIME'])==2017]\n",
    "\n",
    "Coreia1997=Coreia.loc[(Coreia['TIME'])==1997]\n",
    "Coreia2007=Coreia.loc[(Coreia['TIME'])==2007]\n",
    "Coreia2017=Coreia.loc[(Coreia['TIME'])==2017]\n",
    "\n",
    "\n",
    "plt.figure(1, figsize=(20,20))\n",
    "the_grid = GridSpec(4, 4)\n",
    "\n",
    "#Alemanha\n",
    "ax1 = plt.subplot(the_grid[0, 0], aspect=1, title=\"Desempego na Alemanha em 1997\")\n",
    "Alem1997.plot(kind='pie', y = 'Value', ax=ax1, autopct='%1.1f%%', \n",
    " startangle=90, shadow=False, labels=Alem1997['Escolaridade'], legend = False, fontsize=9)\n",
    "\n",
    "\n",
    "ax2 = plt.subplot(the_grid[0, 1], aspect=1, title=\"Desempego na Alemanha em 2007\")\n",
    "Alem2007.plot(kind='pie', y = 'Value', ax=ax2, autopct='%1.1f%%', \n",
    " startangle=90, shadow=False, labels=Alem2007['Escolaridade'], legend = False, fontsize=10)\n",
    "\n",
    "\n",
    "ax3 = plt.subplot(the_grid[0, 2], aspect=1, title=\"Desempego na Alemanha em 2017\")\n",
    "Alem2017.plot(kind='pie', y = 'Value', ax=ax3, autopct='%1.1f%%', \n",
    " startangle=90, shadow=False, labels=Alem2017['Escolaridade'], legend = False, fontsize=10)\n",
    "\n",
    "#Eua\n",
    "ax4 = plt.subplot(the_grid[1, 0], aspect=1, title=\"Desempego na Eua em 1997\")\n",
    "Eua1997.plot(kind='pie', y = 'Value', ax=ax4, autopct='%1.1f%%', \n",
    " startangle=90, shadow=False, labels=Eua1997['Escolaridade'], legend = False, fontsize=10)\n",
    "\n",
    "\n",
    "ax5 = plt.subplot(the_grid[1, 1], aspect=1, title=\"Desempego na Eua em 2007\")\n",
    "Eua2007.plot(kind='pie', y = 'Value', ax=ax5, autopct='%1.1f%%', \n",
    " startangle=90, shadow=False, labels=Eua2007['Escolaridade'], legend = False, fontsize=10)\n",
    "\n",
    "\n",
    "ax6 = plt.subplot(the_grid[1, 2], aspect=1, title=\"Desempego na Eua em 2017\")\n",
    "Eua2017.plot(kind='pie', y = 'Value', ax=ax6, autopct='%1.1f%%', \n",
    " startangle=90, shadow=False, labels=Eua2017['Escolaridade'], legend = False, fontsize=10)\n",
    "\n",
    "#Coreia\n",
    "ax7 = plt.subplot(the_grid[2, 0], aspect=1, title=\"Desempego na Coreia em 1997\")\n",
    "Coreia1997.plot(kind='pie', y = 'Value', ax=ax7, autopct='%1.1f%%', \n",
    " startangle=90, shadow=False, labels=Coreia1997['Escolaridade'], legend = False, fontsize=10)\n",
    "\n",
    "\n",
    "ax8 = plt.subplot(the_grid[2, 1], aspect=1, title=\"Desempego na Coreia em 2007\")\n",
    "Coreia2007.plot(kind='pie', y = 'Value', ax=ax8, autopct='%1.1f%%', \n",
    " startangle=90, shadow=False, labels=Coreia2007['Escolaridade'], legend = False, fontsize=10)\n",
    "\n",
    "\n",
    "ax9 = plt.subplot(the_grid[2, 2], aspect=1, title=\"Desempego na Coreia em 2017\")\n",
    "Coreia2017.plot(kind='pie', y = 'Value', ax=ax9, autopct='%1.1f%%', \n",
    " startangle=90, shadow=False, labels=Coreia2017['Escolaridade'], legend = False, fontsize=10)\n",
    "plt.show()\n",
    "\n",
    "\n"
   ]
  },
  {
   "cell_type": "code",
   "execution_count": null,
   "metadata": {},
   "outputs": [],
   "source": [
    "plt.plot(Alemanha[\"TIME\"],Alemanha['Desemprego'],label='Alemanha')\n",
    "plt.plot(Eua[\"TIME\"],Eua['Desemprego'],label='EUA')\n",
    "plt.plot(Coreia[\"TIME\"],Coreia['Desemprego'],label='Coreia')\n",
    "plt.legend()\n",
    "plt.grid()\n",
    "plt.show()"
   ]
  },
  {
   "cell_type": "code",
   "execution_count": null,
   "metadata": {},
   "outputs": [],
   "source": [
    "dados = pd.get_dummies(dados, columns=['LOCATION','Escolaridade'])\n",
    "dados.head()"
   ]
  },
  {
   "cell_type": "code",
   "execution_count": null,
   "metadata": {},
   "outputs": [],
   "source": [
    "y=dados[\"Value\"]\n",
    "x=dados.drop('Value',axis=1)\n",
    "\n",
    "y.head()"
   ]
  },
  {
   "cell_type": "code",
   "execution_count": null,
   "metadata": {},
   "outputs": [],
   "source": [
    "x.head()"
   ]
  },
  {
   "cell_type": "code",
   "execution_count": null,
   "metadata": {},
   "outputs": [],
   "source": [
    "x_train,x_test,y_train,y_test=train_test_split(x,y,test_size=0.2, random_state=152)"
   ]
  },
  {
   "cell_type": "code",
   "execution_count": null,
   "metadata": {},
   "outputs": [],
   "source": [
    "print(x_train.shape,x_test.shape,y_train.shape,y_test.shape)"
   ]
  },
  {
   "cell_type": "code",
   "execution_count": null,
   "metadata": {
    "scrolled": false
   },
   "outputs": [],
   "source": [
    "linreg = LinearRegression()\n",
    "linreg.fit(x_train,y_train)"
   ]
  },
  {
   "cell_type": "code",
   "execution_count": null,
   "metadata": {
    "scrolled": true
   },
   "outputs": [],
   "source": [
    "# Fazendo regressão linear \n",
    "y_pred=linreg.predict(x_test)\n",
    "\n",
    "print(np.mean((y_test-y_pred)**2))\n",
    "print('Acurácia da regressao:',linreg.score(x_test,y_test))"
   ]
  },
  {
   "cell_type": "code",
   "execution_count": null,
   "metadata": {},
   "outputs": [],
   "source": [
    "from sklearn.metrics import mean_absolute_error\n",
    "#mean_squared_error(y_test,y_pred)\n",
    "mean_absolute_error(y_test,y_pred)"
   ]
  },
  {
   "cell_type": "code",
   "execution_count": null,
   "metadata": {},
   "outputs": [],
   "source": [
    "# Fitting Random Forest Regression to the dataset \n",
    "# import the regressor \n",
    "from sklearn.ensemble import RandomForestRegressor \n",
    "  \n",
    " # create regressor object \n",
    "model = RandomForestRegressor(n_estimators = 500, random_state=152) \n",
    "  \n",
    "# fit the regressor with x and y data \n",
    "model.fit(x_train,y_train) "
   ]
  },
  {
   "cell_type": "code",
   "execution_count": null,
   "metadata": {},
   "outputs": [],
   "source": [
    "from sklearn.metrics import mean_squared_error\n",
    "\n",
    "Y_pred = model.predict(x_test)\n",
    "print(mean_squared_error(y_test,Y_pred))\n",
    "print(mean_absolute_error(y_test,Y_pred))\n",
    "print('Acurácia da regressao:',model.score(x_test,y_test)) #"
   ]
  },
  {
   "cell_type": "code",
   "execution_count": null,
   "metadata": {},
   "outputs": [],
   "source": [
    "from sklearn.datasets import make_regression\n",
    "from sklearn.ensemble import GradientBoostingRegressor\n",
    "\n",
    "reg = GradientBoostingRegressor(random_state=0)\n",
    "reg.fit(x_train,y_train)\n",
    "GradientBoostingRegressor(random_state=0)\n",
    "Grad_pred=reg.predict(x_test)\n",
    "reg.score(x_test, y_test)"
   ]
  }
 ],
 "metadata": {
  "kernelspec": {
   "display_name": "Python 3",
   "language": "python",
   "name": "python3"
  },
  "language_info": {
   "codemirror_mode": {
    "name": "ipython",
    "version": 3
   },
   "file_extension": ".py",
   "mimetype": "text/x-python",
   "name": "python",
   "nbconvert_exporter": "python",
   "pygments_lexer": "ipython3",
   "version": "3.7.1"
  }
 },
 "nbformat": 4,
 "nbformat_minor": 2
}
