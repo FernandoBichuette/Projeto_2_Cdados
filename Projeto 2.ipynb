{
 "cells": [
  {
   "cell_type": "markdown",
   "metadata": {},
   "source": [
    "**Pergunta :** O nivel de escolaridade afeta a chance de uma pessoa perder o emprego?"
   ]
  },
  {
   "cell_type": "code",
   "execution_count": 1,
   "metadata": {},
   "outputs": [],
   "source": [
    "%matplotlib inline\n",
    "import pandas as pd\n",
    "\n",
    "import numpy as np\n",
    "import seaborn as sns\n",
    "from matplotlib.ticker import StrMethodFormatter\n",
    "from scipy import stats\n",
    "import matplotlib.pyplot as plt"
   ]
  },
  {
   "cell_type": "code",
   "execution_count": 2,
   "metadata": {},
   "outputs": [],
   "source": [
    "desemprego_por_escolaridade = pd.read_csv(\"oecd.csv\")\n",
    "desemprego_por_escolaridade.drop(['INDICATOR','MEASURE','FREQUENCY','Flag Codes'], axis=1, inplace=True)\n",
    "data1=desemprego_por_escolaridade"
   ]
  },
  {
   "cell_type": "code",
   "execution_count": 3,
   "metadata": {},
   "outputs": [],
   "source": [
    "#escolaridade_index =desemprego_por_escolaridade.set_index('LOCATION')\n",
    "#desemprego_por_escolaridade.pivot(index ='LOCATION', columns ='SUBJECT')"
   ]
  },
  {
   "cell_type": "code",
   "execution_count": 4,
   "metadata": {},
   "outputs": [
    {
     "data": {
      "text/html": [
       "<div>\n",
       "<style scoped>\n",
       "    .dataframe tbody tr th:only-of-type {\n",
       "        vertical-align: middle;\n",
       "    }\n",
       "\n",
       "    .dataframe tbody tr th {\n",
       "        vertical-align: top;\n",
       "    }\n",
       "\n",
       "    .dataframe thead th {\n",
       "        text-align: right;\n",
       "    }\n",
       "</style>\n",
       "<table border=\"1\" class=\"dataframe\">\n",
       "  <thead>\n",
       "    <tr style=\"text-align: right;\">\n",
       "      <th></th>\n",
       "      <th>Country Code</th>\n",
       "      <th>1997 [YR1997]</th>\n",
       "      <th>1998 [YR1998]</th>\n",
       "      <th>1999 [YR1999]</th>\n",
       "      <th>2000 [YR2000]</th>\n",
       "      <th>2001 [YR2001]</th>\n",
       "      <th>2002 [YR2002]</th>\n",
       "      <th>2003 [YR2003]</th>\n",
       "      <th>2004 [YR2004]</th>\n",
       "      <th>2010 [YR2010]</th>\n",
       "      <th>2011 [YR2011]</th>\n",
       "      <th>2012 [YR2012]</th>\n",
       "      <th>2013 [YR2013]</th>\n",
       "      <th>2014 [YR2014]</th>\n",
       "      <th>2015 [YR2015]</th>\n",
       "      <th>2016 [YR2016]</th>\n",
       "      <th>2017 [YR2017]</th>\n",
       "      <th>2018 [YR2018]</th>\n",
       "    </tr>\n",
       "  </thead>\n",
       "  <tbody>\n",
       "    <tr>\n",
       "      <th>0</th>\n",
       "      <td>KOR</td>\n",
       "      <td>2.608</td>\n",
       "      <td>6.963</td>\n",
       "      <td>6.342</td>\n",
       "      <td>4.400</td>\n",
       "      <td>4.000</td>\n",
       "      <td>3.300</td>\n",
       "      <td>3.600</td>\n",
       "      <td>3.700</td>\n",
       "      <td>3.700</td>\n",
       "      <td>3.400</td>\n",
       "      <td>3.200</td>\n",
       "      <td>3.100</td>\n",
       "      <td>3.500</td>\n",
       "      <td>3.600</td>\n",
       "      <td>3.700</td>\n",
       "      <td>3.700</td>\n",
       "      <td>3.848</td>\n",
       "    </tr>\n",
       "    <tr>\n",
       "      <th>1</th>\n",
       "      <td>USA</td>\n",
       "      <td>5.000</td>\n",
       "      <td>4.510</td>\n",
       "      <td>4.219</td>\n",
       "      <td>3.992</td>\n",
       "      <td>4.731</td>\n",
       "      <td>5.783</td>\n",
       "      <td>5.989</td>\n",
       "      <td>5.529</td>\n",
       "      <td>9.633</td>\n",
       "      <td>8.949</td>\n",
       "      <td>8.069</td>\n",
       "      <td>7.375</td>\n",
       "      <td>6.168</td>\n",
       "      <td>5.280</td>\n",
       "      <td>4.869</td>\n",
       "      <td>4.355</td>\n",
       "      <td>3.896</td>\n",
       "    </tr>\n",
       "    <tr>\n",
       "      <th>2</th>\n",
       "      <td>DEU</td>\n",
       "      <td>9.863</td>\n",
       "      <td>9.788</td>\n",
       "      <td>8.855</td>\n",
       "      <td>7.917</td>\n",
       "      <td>7.773</td>\n",
       "      <td>8.482</td>\n",
       "      <td>9.779</td>\n",
       "      <td>10.727</td>\n",
       "      <td>6.966</td>\n",
       "      <td>5.824</td>\n",
       "      <td>5.379</td>\n",
       "      <td>5.231</td>\n",
       "      <td>4.981</td>\n",
       "      <td>4.624</td>\n",
       "      <td>4.122</td>\n",
       "      <td>3.746</td>\n",
       "      <td>3.384</td>\n",
       "    </tr>\n",
       "  </tbody>\n",
       "</table>\n",
       "</div>"
      ],
      "text/plain": [
       "  Country Code  1997 [YR1997]  1998 [YR1998]  1999 [YR1999]  2000 [YR2000]  \\\n",
       "0          KOR          2.608          6.963          6.342          4.400   \n",
       "1          USA          5.000          4.510          4.219          3.992   \n",
       "2          DEU          9.863          9.788          8.855          7.917   \n",
       "\n",
       "   2001 [YR2001]  2002 [YR2002]  2003 [YR2003]  2004 [YR2004]  2010 [YR2010]  \\\n",
       "0          4.000          3.300          3.600          3.700          3.700   \n",
       "1          4.731          5.783          5.989          5.529          9.633   \n",
       "2          7.773          8.482          9.779         10.727          6.966   \n",
       "\n",
       "   2011 [YR2011]  2012 [YR2012]  2013 [YR2013]  2014 [YR2014]  2015 [YR2015]  \\\n",
       "0          3.400          3.200          3.100          3.500          3.600   \n",
       "1          8.949          8.069          7.375          6.168          5.280   \n",
       "2          5.824          5.379          5.231          4.981          4.624   \n",
       "\n",
       "   2016 [YR2016]  2017 [YR2017]  2018 [YR2018]  \n",
       "0          3.700          3.700          3.848  \n",
       "1          4.869          4.355          3.896  \n",
       "2          4.122          3.746          3.384  "
      ]
     },
     "execution_count": 4,
     "metadata": {},
     "output_type": "execute_result"
    }
   ],
   "source": [
    "desemprego= pd.read_csv(\"desemprego.csv\")\n",
    "desemprego.drop(['Country Name','Series Name','Series Code'], axis=1, inplace=True)\n",
    "desemprego.head(3)"
   ]
  },
  {
   "cell_type": "code",
   "execution_count": 5,
   "metadata": {},
   "outputs": [],
   "source": [
    "#Cruza as duas tabelas via país\n",
    "#escolaridade_index =desemprego_por_escolaridade.set_index('LOCATION')\n",
    "#desempregoT_index = desemprego.set_index('Country Code')\n",
    "#df = escolaridade_index.join(desempregoT_index, how='inner')\n",
    "#df.head()\n"
   ]
  },
  {
   "cell_type": "code",
   "execution_count": 6,
   "metadata": {
    "scrolled": false
   },
   "outputs": [
    {
     "data": {
      "text/html": [
       "<div>\n",
       "<style scoped>\n",
       "    .dataframe tbody tr th:only-of-type {\n",
       "        vertical-align: middle;\n",
       "    }\n",
       "\n",
       "    .dataframe tbody tr th {\n",
       "        vertical-align: top;\n",
       "    }\n",
       "\n",
       "    .dataframe thead th {\n",
       "        text-align: right;\n",
       "    }\n",
       "</style>\n",
       "<table border=\"1\" class=\"dataframe\">\n",
       "  <thead>\n",
       "    <tr style=\"text-align: right;\">\n",
       "      <th></th>\n",
       "      <th>LOCATION</th>\n",
       "      <th>Escolaridade</th>\n",
       "      <th>TIME</th>\n",
       "      <th>Value</th>\n",
       "    </tr>\n",
       "  </thead>\n",
       "  <tbody>\n",
       "    <tr>\n",
       "      <th>0</th>\n",
       "      <td>DEU</td>\n",
       "      <td>Prim_sem_Secun</td>\n",
       "      <td>1997</td>\n",
       "      <td>16.671282</td>\n",
       "    </tr>\n",
       "    <tr>\n",
       "      <th>1</th>\n",
       "      <td>DEU</td>\n",
       "      <td>Prim_sem_Secun</td>\n",
       "      <td>1998</td>\n",
       "      <td>16.517719</td>\n",
       "    </tr>\n",
       "    <tr>\n",
       "      <th>2</th>\n",
       "      <td>DEU</td>\n",
       "      <td>Prim_sem_Secun</td>\n",
       "      <td>1999</td>\n",
       "      <td>15.599174</td>\n",
       "    </tr>\n",
       "    <tr>\n",
       "      <th>3</th>\n",
       "      <td>DEU</td>\n",
       "      <td>Prim_sem_Secun</td>\n",
       "      <td>2000</td>\n",
       "      <td>13.665389</td>\n",
       "    </tr>\n",
       "    <tr>\n",
       "      <th>4</th>\n",
       "      <td>DEU</td>\n",
       "      <td>Prim_sem_Secun</td>\n",
       "      <td>2001</td>\n",
       "      <td>13.515862</td>\n",
       "    </tr>\n",
       "  </tbody>\n",
       "</table>\n",
       "</div>"
      ],
      "text/plain": [
       "  LOCATION    Escolaridade  TIME      Value\n",
       "0      DEU  Prim_sem_Secun  1997  16.671282\n",
       "1      DEU  Prim_sem_Secun  1998  16.517719\n",
       "2      DEU  Prim_sem_Secun  1999  15.599174\n",
       "3      DEU  Prim_sem_Secun  2000  13.665389\n",
       "4      DEU  Prim_sem_Secun  2001  13.515862"
      ]
     },
     "execution_count": 6,
     "metadata": {},
     "output_type": "execute_result"
    }
   ],
   "source": [
    "data1.rename(columns={'SUBJECT':'Escolaridade'},index={'DEU':'Alem','KOR':'Coreia','USA':'EUA'}, inplace=True)\n",
    "data1[\"Escolaridade\"]= data1[\"Escolaridade\"].str.replace(\"BUPPSRY\", \"Prim_sem_Secun\", case = False)\n",
    "data1[\"Escolaridade\"]=data1[\"Escolaridade\"].str.replace(\"UPPSRY_NTRY\", \"Com_Secun_sem_superior\", case = False) \n",
    "data1[\"Escolaridade\"]=data1[\"Escolaridade\"].str.replace(\"TRY\", \"Com_ens_superior\", case = False) \n",
    "data1.head()"
   ]
  },
  {
   "cell_type": "code",
   "execution_count": 19,
   "metadata": {
    "scrolled": false
   },
   "outputs": [
    {
     "data": {
      "image/png": "[encoded data removed]",
      "text/plain": [
       "<Figure size 432x288 with 1 Axes>"
      ]
     },
     "metadata": {
      "needs_background": "light"
     },
     "output_type": "display_data"
    }
   ],
   "source": [
    "Alemanha = data1.loc[(desemprego_por_escolaridade['LOCATION'])=='DEU']\n",
    "Eua=data1.loc[(desemprego_por_escolaridade['LOCATION'])=='EUA']\n",
    "Coreia=data1.loc[(desemprego_por_escolaridade['LOCATION'])=='Coreia']\n",
    "\n",
    "plt.scatter(data1['Escolaridade'],data1['Value'])\n",
    "plt.xlabel('Escolaridades')\n",
    "plt.ylabel('Porcentagem de desempregados')\n",
    "#plt.title('Escolaridades')\n",
    "plt.grid(True)\n",
    "plt.show()"
   ]
  },
  {
   "cell_type": "code",
   "execution_count": 9,
   "metadata": {},
   "outputs": [
    {
     "data": {
      "image/png": "[encoded data removed]",
      "text/plain": [
       "<Figure size 432x288 with 1 Axes>"
      ]
     },
     "metadata": {
      "needs_background": "light"
     },
     "output_type": "display_data"
    }
   ],
   "source": [
    "Alemanha = data1.loc[(desemprego_por_escolaridade['LOCATION'])=='DEU']\n",
    "\n",
    "plt.scatter(Alemanha['TIME'],Alemanha['Value'])\n",
    "plt.xlabel('Ano')\n",
    "plt.ylabel('Porcentagem de desempregados')\n",
    "plt.title('Alemanha: Porcentagem de desempregados x Anos')\n",
    "plt.grid(True)\n",
    "plt.show()\n"
   ]
  },
  {
   "cell_type": "code",
   "execution_count": 18,
   "metadata": {},
   "outputs": [
    {
     "data": {
      "text/plain": [
       "Text(0.5, 1.0, 'Alemanha: Porcentagem de desempregados x Anos')"
      ]
     },
     "execution_count": 18,
     "metadata": {},
     "output_type": "execute_result"
    },
    {
     "data": {
      "image/png": "[encoded data removed]",
      "text/plain": [
       "<Figure size 432x288 with 1 Axes>"
      ]
     },
     "metadata": {
      "needs_background": "light"
     },
     "output_type": "display_data"
    }
   ],
   "source": [
    "bplot=sns.boxplot(y='Value', x='Escolaridade', \n",
    "                 data=Alemanha, \n",
    "                 width=0.5,\n",
    "                 palette=\"colorblind\")\n",
    " \n",
    "# add stripplot to boxplot with Seaborn\n",
    "bplot=sns.stripplot(y='Value', x='Escolaridade', \n",
    "                   data=Alemanha, \n",
    "                   jitter=True, \n",
    "                   marker='o', \n",
    "                   alpha=0.5,\n",
    "                   color='black')\n",
    "plt.xlabel('Escolaridade')\n",
    "plt.ylabel('Porcentagem de desempregados')\n",
    "plt.grid(True)\n",
    "plt.title('Alemanha: Porcentagem de desempregados x Anos')"
   ]
  },
  {
   "cell_type": "code",
   "execution_count": null,
   "metadata": {},
   "outputs": [],
   "source": []
  }
 ],
 "metadata": {
  "kernelspec": {
   "display_name": "Python 3",
   "language": "python",
   "name": "python3"
  },
  "language_info": {
   "codemirror_mode": {
    "name": "ipython",
    "version": 3
   },
   "file_extension": ".py",
   "mimetype": "text/x-python",
   "name": "python",
   "nbconvert_exporter": "python",
   "pygments_lexer": "ipython3",
   "version": "3.7.1"
  }
 },
 "nbformat": 4,
 "nbformat_minor": 2
}
